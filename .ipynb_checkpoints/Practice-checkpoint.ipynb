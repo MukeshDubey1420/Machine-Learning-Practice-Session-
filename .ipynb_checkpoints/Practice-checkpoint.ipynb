{
 "cells": [
  {
   "cell_type": "code",
   "execution_count": 1,
   "metadata": {},
   "outputs": [
    {
     "name": "stdout",
     "output_type": "stream",
     "text": [
      "Hello World..!!!!\n"
     ]
    }
   ],
   "source": [
    "print \"Hello World..!!!!\""
   ]
  },
  {
   "cell_type": "code",
   "execution_count": 2,
   "metadata": {},
   "outputs": [
    {
     "name": "stdout",
     "output_type": "stream",
     "text": [
      "5\n",
      "Buzz\n"
     ]
    }
   ],
   "source": [
    "n = int(raw_input())\n",
    "if n % 3 == 0 and n % 5 == 0:\n",
    "  print 'FizzBuzz'\n",
    "elif n % 3 == 0:\n",
    "  print 'Fizz'\n",
    "elif n % 5 == 0:\n",
    "  print 'Buzz'"
   ]
  }
 ],
 "metadata": {
  "kernelspec": {
   "display_name": "Python 2",
   "language": "python",
   "name": "python2"
  },
  "language_info": {
   "codemirror_mode": {
    "name": "ipython",
    "version": 2
   },
   "file_extension": ".py",
   "mimetype": "text/x-python",
   "name": "python",
   "nbconvert_exporter": "python",
   "pygments_lexer": "ipython2",
   "version": "2.7.14"
  }
 },
 "nbformat": 4,
 "nbformat_minor": 2
}
