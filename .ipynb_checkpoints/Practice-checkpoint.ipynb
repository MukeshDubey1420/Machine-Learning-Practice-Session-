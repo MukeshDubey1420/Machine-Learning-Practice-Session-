{
 "cells": [
  {
   "cell_type": "code",
   "execution_count": 1,
   "metadata": {},
   "outputs": [
    {
     "name": "stdout",
     "output_type": "stream",
     "text": [
      "Hello World..!!!!\n"
     ]
    }
   ],
   "source": [
    "print \"Hello World..!!!!\""
   ]
  },
  {
   "cell_type": "code",
   "execution_count": 3,
   "metadata": {},
   "outputs": [
    {
     "name": "stdout",
     "output_type": "stream",
     "text": [
      "8\n"
     ]
    }
   ],
   "source": [
    "n = int(raw_input())\n",
    "if n % 3 == 0 and n % 5 == 0:\n",
    "  print 'FizzBuzz'\n",
    "elif n % 3 == 0:\n",
    "  print 'Fizz'\n",
    "elif n % 5 == 0:\n",
    "  print 'Buzz'"
   ]
  },
  {
   "cell_type": "code",
   "execution_count": 5,
   "metadata": {},
   "outputs": [
    {
     "name": "stdout",
     "output_type": "stream",
     "text": [
      "<type 'int'>\n",
      "<type 'str'>\n"
     ]
    }
   ],
   "source": [
    "x = 52\n",
    "print type(x)\n",
    "x = str(x)\n",
    "print type(x)"
   ]
  },
  {
   "cell_type": "code",
   "execution_count": 6,
   "metadata": {},
   "outputs": [
    {
     "name": "stdout",
     "output_type": "stream",
     "text": [
      "Age of Mr. Robben is 44 years\n"
     ]
    }
   ],
   "source": [
    "age = 44\n",
    "print 'Age of Mr. Robben is %i years' % (age)"
   ]
  },
  {
   "cell_type": "code",
   "execution_count": 7,
   "metadata": {},
   "outputs": [
    {
     "name": "stdout",
     "output_type": "stream",
     "text": [
      "2\n",
      "Positive\n"
     ]
    }
   ],
   "source": [
    "x = int(raw_input())\n",
    "if x > 0:\n",
    "    print 'Positive'\n",
    "elif x < 0:\n",
    "    print 'Negative'\n",
    "else:\n",
    "    print 'Aryabhatta'"
   ]
  },
  {
   "cell_type": "code",
   "execution_count": null,
   "metadata": {
    "collapsed": true
   },
   "outputs": [],
   "source": []
  }
 ],
 "metadata": {
  "kernelspec": {
   "display_name": "Python 2",
   "language": "python",
   "name": "python2"
  },
  "language_info": {
   "codemirror_mode": {
    "name": "ipython",
    "version": 2
   },
   "file_extension": ".py",
   "mimetype": "text/x-python",
   "name": "python",
   "nbconvert_exporter": "python",
   "pygments_lexer": "ipython2",
   "version": "2.7.14"
  }
 },
 "nbformat": 4,
 "nbformat_minor": 2
}
